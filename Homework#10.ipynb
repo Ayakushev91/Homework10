{
 "cells": [
  {
   "cell_type": "markdown",
   "metadata": {},
   "source": [
    "## Домашнее задание к лекции \"Регулярные выражения\""
   ]
  },
  {
   "cell_type": "markdown",
   "metadata": {},
   "source": [
    "### Задание 1"
   ]
  },
  {
   "cell_type": "code",
   "execution_count": null,
   "metadata": {},
   "outputs": [],
   "source": [
    "\"\"\"\n",
    "Напишите функцию, которая принимает на вход строку и проверяет является ли она валидным транспортным номером \n",
    "(1 буква, 3 цифры, 2 буквы, 2-3 цифры). \n",
    "Обратите внимание, что не все буквы кириллического алфавита используются в транспортных номерах.\n",
    "\n",
    "Если номер валиден, то функция должна возвращать отдельно номер и регион.\n",
    "\"\"\""
   ]
  },
  {
   "cell_type": "code",
   "execution_count": 74,
   "metadata": {},
   "outputs": [
    {
     "name": "stdout",
     "output_type": "stream",
     "text": [
      "К202ЕВ99\n",
      "Номер К202ЕВ99 валиден. Регион: 99\n"
     ]
    }
   ],
   "source": [
    "import re\n",
    "def car_number(car_id):\n",
    "    car_number = re.findall(r'^([АВЕКМНОРСТУХ]{1}[0-9]{3}[АВЕКМНОРСТУХ]{2}[0-9]{2,3})?$', car_id)\n",
    "    if len(car_number) >= 1:\n",
    "        reg = re.findall(r'\\d{2,3}$', car_id)\n",
    "        print(f'Номер {car_id} валиден. Регион: {reg[0]}')\n",
    "    else:\n",
    "        print('Номер не валиден')\n",
    "car_number(input())"
   ]
  },
  {
   "cell_type": "markdown",
   "metadata": {},
   "source": [
    "## Задание 2"
   ]
  },
  {
   "cell_type": "code",
   "execution_count": null,
   "metadata": {},
   "outputs": [],
   "source": [
    "\"\"\"\n",
    "Напишите функцию, которая будет удалять все последовательные повторы слов из заданной строки\n",
    "при помощи регулярных выражений.\n",
    "\"\"\""
   ]
  },
  {
   "cell_type": "code",
   "execution_count": 79,
   "metadata": {},
   "outputs": [
    {
     "name": "stdout",
     "output_type": "stream",
     "text": [
      "Напишите функцию функцию, которая будет будет будет будет удалять все все все все последовательные повторы слов из из из из заданной строки строки при помощи регулярных выражений\n"
     ]
    },
    {
     "data": {
      "text/plain": [
       "'Напишите функцию, которая будет удалять все последовательные повторы слов из заданной строки при помощи регулярных выражений'"
      ]
     },
     "execution_count": 79,
     "metadata": {},
     "output_type": "execute_result"
    }
   ],
   "source": [
    "import re\n",
    "def del_repeats(some_string):\n",
    "    current_string = re.sub(r'\\b([^\\W\\d_]+)(\\s+\\1)+\\b', r'\\1', some_string, flags=re.I)\n",
    "    return current_string\n",
    "del_repeats(input())"
   ]
  },
  {
   "cell_type": "markdown",
   "metadata": {},
   "source": [
    "## Задание 3"
   ]
  },
  {
   "cell_type": "code",
   "execution_count": null,
   "metadata": {},
   "outputs": [],
   "source": [
    "\"\"\"\n",
    "Напишите функцию, которая будет возвращать акроним по переданной в нее строке со словами.\n",
    "\"\"\""
   ]
  },
  {
   "cell_type": "code",
   "execution_count": 136,
   "metadata": {},
   "outputs": [
    {
     "name": "stdout",
     "output_type": "stream",
     "text": [
      "Near Field Communication\n",
      "NFC\n"
     ]
    }
   ],
   "source": [
    "import re\n",
    "def acronim(some_words):\n",
    "    print(re.sub(r'\\b(\\w)\\w+\\b(\\s)*', r'\\1', some_words))\n",
    "acronim(input())"
   ]
  },
  {
   "cell_type": "markdown",
   "metadata": {},
   "source": [
    "## Задание 4"
   ]
  },
  {
   "cell_type": "code",
   "execution_count": null,
   "metadata": {},
   "outputs": [],
   "source": [
    "\"\"\"\n",
    "Напишите функцию, которая будет принимать на вход список email-адресов и выводить их распределение по доменным зонам.\n",
    "\"\"\""
   ]
  },
  {
   "cell_type": "code",
   "execution_count": 254,
   "metadata": {},
   "outputs": [
    {
     "name": "stdout",
     "output_type": "stream",
     "text": [
      "['gmail.com']: 2\n",
      "['test.in']: 1\n",
      "['ya.ru']: 2\n",
      "['mail.ru']: 1\n"
     ]
    }
   ],
   "source": [
    "import re\n",
    "from  more_itertools import unique_everseen\n",
    "emails = ['test@gmail.com', 'xyz@test.in', 'test@ya.ru', 'xyz@mail.ru', 'xyz@ya.ru', 'xyz@gmail.com']\n",
    "domens_in_list = []\n",
    "for mail in emails:\n",
    "    domen = re.findall(r'\\@(.*)$', mail)\n",
    "    domens_in_list.append(domen)\n",
    "final = list(unique_everseen(domens_in_list))\n",
    "for value in final:\n",
    "    print(f'{value}: {domens_in_list.count(value)}')"
   ]
  }
 ],
 "metadata": {
  "kernelspec": {
   "display_name": "Python 3",
   "language": "python",
   "name": "python3"
  },
  "language_info": {
   "codemirror_mode": {
    "name": "ipython",
    "version": 3
   },
   "file_extension": ".py",
   "mimetype": "text/x-python",
   "name": "python",
   "nbconvert_exporter": "python",
   "pygments_lexer": "ipython3",
   "version": "3.8.5"
  }
 },
 "nbformat": 4,
 "nbformat_minor": 4
}
